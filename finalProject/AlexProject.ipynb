{
 "cells": [
  {
   "cell_type": "markdown",
   "metadata": {},
   "source": [
    "### solve the linearized dynamics of the cart-pull mechanism\n"
   ]
  },
  {
   "cell_type": "markdown",
   "metadata": {},
   "source": [
    "below is the solution with equations that have been linearized about q1 = 0"
   ]
  },
  {
   "cell_type": "code",
   "execution_count": 176,
   "metadata": {},
   "outputs": [
    {
     "data": {
      "text/plain": [
       "SolvLinearizedCartPull"
      ]
     },
     "execution_count": 176,
     "metadata": {},
     "output_type": "execute_result"
    }
   ],
   "source": [
    "using JuMP, Gurobi\n",
    "\n",
    "#define initial and final states, x\n",
    "x0 = [0 pi 0 0]' \n",
    "xf = [3 pi 0 0]'   #wind up at the same angle, but \n",
    "\n",
    "\n",
    "\"\"\"\n",
    "linearize the dynamics of the cart pull mechanism through the small angle assumption -> first term\n",
    "in taylor series expansion for sin(q) and cos(q)\n",
    "\n",
    "inputs:\n",
    "    x0 = [q₁ q₂ q₁dot q₂dot]'      #initial system state\n",
    "    xf = [q₁ q₂ q₁dot q₂dot]'      #final system state\n",
    "    tf = [sec]                     #time to get to final state\n",
    "    h =  [sec]                     #time between collocation points\n",
    "\n",
    "outputs:\n",
    "    path = [4xk]                   #state matrix that specifies path \n",
    "\"\"\"\n",
    "function SolvLinearizedCartPull(x0, xf, tf, h, itype = \"forwardEuler\")\n",
    "    \n",
    "    #define model\n",
    "    m = Model(solver = GurobiSolver(OutputFlag=0))\n",
    "    T = 0:h:tf                   #time vector\n",
    "    K = length(T)                 #number of collocation points\n",
    "    @variable(m,    x[1:4,1:K])   #system state at discrete times\n",
    "    @variable(m, xdot[1:4,1:K])   #derivative of system state at discrete times\n",
    "    @variable(m,    u[1:1,1:K])   #control input to system along q1\n",
    "\n",
    "    #boundry constraints - initial and final state\n",
    "    @constraint(m, x[:,1] .== x0)\n",
    "    @constraint(m, x[:,K] .== xf)\n",
    "    \n",
    "    #path constraints\n",
    "    \n",
    "    #q₁ limits\n",
    "#     xlower = -1\n",
    "#     xupper =  4\n",
    "#     for k in 1:K\n",
    "#         @constraint(m, xlower <= x[1,k])\n",
    "#         @constraint(m, x[1,k] <= xupper)\n",
    "#     end\n",
    "    \n",
    "#     #q₂ limits\n",
    "#      q2lower =  .5\n",
    "#      q2upper =  -.5\n",
    "    q2lower =   pi + .5\n",
    "    q2upper =   pi - .5\n",
    "    for k in 1:K\n",
    "        @constraint(m, q2lower <= x[2,k])\n",
    "        @constraint(m, x[2,k] <= q2upper)\n",
    "    end\n",
    "    \n",
    "    \n",
    "    #dynamics (path) constraints, integral form\n",
    "    \n",
    "    #model constants\n",
    "    l = 1         #length of arm\n",
    "    m1 = 3        #mass of cart\n",
    "    m2 = 1        #mass of pendulum point mass\n",
    "    g = 9.81\n",
    "    linAngle = pi #the q2 angle we linearize the system about \n",
    "    \n",
    "    \n",
    "    #setup the dynamics constraints linearized about q1 = 0\n",
    "    if linAngle == 0\n",
    "        for k in 1:K\n",
    "            #notes - linearized system with first term in taylor series, and neglected coreolis acceleration\n",
    "            @constraint(m,xdot[1,k] == x[3,k])\n",
    "            @constraint(m,xdot[2,k] == x[4,k])\n",
    "            @constraint(m,xdot[3,k] == u[1,k] + m2*g*1*x[2,k] / m1) \n",
    "            @constraint(m,xdot[4,k] == -u[1,k]  -(m1 + m2)*g*x[2,k] / m1) \n",
    "\n",
    "        end\n",
    "    end\n",
    "    \n",
    "    if linAngle == pi\n",
    "        for k in 1:K\n",
    "            #notes - linearized system with first term in taylor series, and neglected coreolis acceleration\n",
    "            @constraint(m,xdot[1,k] == x[3,k])\n",
    "            @constraint(m,xdot[2,k] == x[4,k])\n",
    "            @constraint(m,xdot[3,k] == u[1,k]  + m2*g*1*x[2,k] / m1) \n",
    "            @constraint(m,xdot[4,k] == u[1,k]  +(m1 + m2)*g*x[2,k] / m1) \n",
    "\n",
    "        end\n",
    "    end\n",
    "\n",
    "    if itype == \"forwardEuler\" \n",
    "        #add forward euler dynamics constraint\n",
    "        for k in 1:K-1\n",
    "            @constraint(m, x[:,k+1] .== x[:,k] + h*xdot[:,k])\n",
    "        end\n",
    "        \n",
    "    elseif itype == \"backwardEuler\"\n",
    "        for k in 1:K-1\n",
    "             #add backwards euler dynamics constraint\n",
    "            @constraint(m, x[:,k+1] .== x[:,k] + .5*h*(xdot[:,k] + xdot[:,k+1]))\n",
    "        end     \n",
    "    end\n",
    "\n",
    "    # minimize 2-norm (THIS IS LEAST-SQUARES)\n",
    "    #@objective(m, Min, .5*h*sum(u[1:end-1].^2 + u[2:end].^2))\n",
    "    @objective(m, Min, sum(u.^2) ) #+ sum(x[2,:]).^2))\n",
    "    solve(m)\n",
    "    #print(m)\n",
    "    \n",
    "    control = getvalue(u)\n",
    "    xopt = getvalue(x)\n",
    "    xdotopt = getvalue(xdot)\n",
    "    \n",
    "    return (control, xopt,xdotopt)\n",
    "end\n",
    "\n",
    "\n",
    "#notes: \n",
    "# - should we be using a regularizer, and on what variables?  "
   ]
  },
  {
   "cell_type": "code",
   "execution_count": 177,
   "metadata": {},
   "outputs": [
    {
     "data": {
      "image/png": "[encoded data removed]",
      "text/plain": [
       "PyPlot.Figure(PyObject <matplotlib.figure.Figure object at 0x0000000006949D30>)"
      ]
     },
     "metadata": {},
     "output_type": "display_data"
    },
    {
     "name": "stdout",
     "output_type": "stream",
     "text": [
      "Academic license - for non-commercial use only\r\n"
     ]
    },
    {
     "name": "stderr",
     "output_type": "stream",
     "text": [
      "\u001b[1m\u001b[33mWARNING: \u001b[39m\u001b[22m\u001b[33mNot solved to optimality, status: InfeasibleOrUnbounded\u001b[39m\n",
      "\u001b[1m\u001b[33mWARNING: \u001b[39m\u001b[22m\u001b[33mVariable value not defined for component of u. Check that the model was properly solved.\u001b[39m\n",
      "\u001b[1m\u001b[33mWARNING: \u001b[39m\u001b[22m\u001b[33mVariable value not defined for component of x. Check that the model was properly solved.\u001b[39m\n",
      "\u001b[1m\u001b[33mWARNING: \u001b[39m\u001b[22m\u001b[33mVariable value not defined for component of xdot. Check that the model was properly solved.\u001b[39m\n"
     ]
    }
   ],
   "source": [
    "\n",
    "(c,x,xdot) = SolvLinearizedCartPull(x0,xf,3,.01)\n",
    "\n",
    "using PyPlot\n",
    "figure(figsize=(12,4))\n",
    "#plot(c[1,:])\n",
    "plot( x[1,:], \"b.-\", markersize=4)\n",
    "plot(x[2,:],\"r\")\n",
    "#legend(\"x\",\"xdot\")\n",
    "#plot(xdot[1,:])\n",
    "#plot(xdot[3,:])\n",
    "\n",
    "\n",
    "process2CSV(x)"
   ]
  },
  {
   "cell_type": "markdown",
   "metadata": {},
   "source": [
    "below, I define a library function which will convert the kinematics from a minimal set of generalized coordinates, to the maximal set that is required for my 3d ploting function:"
   ]
  },
  {
   "cell_type": "code",
   "execution_count": 122,
   "metadata": {},
   "outputs": [
    {
     "data": {
      "text/plain": [
       "4×401 Array{Float64,2}:\n",
       " -0.0      -0.0       0.0125477   0.0369404  …  2.96393  2.98774    3.0    \n",
       " -3.14159  -3.14159  -3.13213    -3.1139        3.11472  3.13241    3.14159\n",
       " -0.0       1.25477   2.43927     3.55635       2.38122  1.22595   -0.0    \n",
       " -0.0       0.94658   1.82289     2.63277       1.76837  0.918658  -0.0    "
      ]
     },
     "execution_count": 122,
     "metadata": {},
     "output_type": "execute_result"
    }
   ],
   "source": [
    "\n",
    "(c,x,xdot) = SolvLinearizedCartPull(x0,xf,2,.01)\n",
    "\n",
    "using PyPlot\n",
    "figure(figsize=(12,4))\n",
    "#plot(c[1,:])\n",
    "plot( x[1,:], \"b.-\", markersize=4)\n",
    "plot(x[2,:],\"r\")\n",
    "#legend(\"x\",\"xdot\")\n",
    "#plot(xdot[1,:])\n",
    "#plot(xdot[3,:])\n",
    "\n",
    "\n",
    "process2CSV(x)"
   ]
  },
  {
   "cell_type": "markdown",
   "metadata": {},
   "source": [
    "below are several numerical integration schemes, so that we can simulate the results of the optimization in forward dynamics"
   ]
  },
  {
   "cell_type": "code",
   "execution_count": 41,
   "metadata": {},
   "outputs": [
    {
     "data": {
      "text/plain": [
       "Rz (generic function with 1 method)"
      ]
     },
     "execution_count": 41,
     "metadata": {},
     "output_type": "execute_result"
    }
   ],
   "source": [
    "\"\"\"takes a 3x3 rotation matrix and converts it to a 4x1 array of euler parameters\"\"\"\n",
    "function A2P(A::Array) \n",
    "  e0 = sqrt((trace(A) + 1)/4)\n",
    "  if e0 != 0\n",
    "    e1 = (A[3,2] - A[2,3])/(4*e0)\n",
    "    e2 = (A[1,3] - A[3,1])/(4*e0)\n",
    "    e3 = (A[2,1] - A[1,2])/(4*e0)\n",
    "  end\n",
    "\n",
    "  if e0 == 0  #implies Χ = π\n",
    "    #figure out which e terms are non-zero\n",
    "    e1flag = false; e2flag = false; e3flag = false;\n",
    "    if A[1,1] + 1 != 0  e1flag = true end\n",
    "    if A[2,2] + 1 != 0  e2flag = true end\n",
    "    if A[3,3] + 1 != 0  e3flag = true end\n",
    "\n",
    "    if e1flag\n",
    "      e1 = sqrt((A[1,1] + 1)/2)\n",
    "      e2 = (A[2,1] + A[1,2])/(4*e1)\n",
    "      e3 = (A[3,1] + A[1,3])/(4*e1)\n",
    "    elseif e2flag\n",
    "      e2 = sqrt((A[2,2] + 1)/2)\n",
    "      e1 = (A[2,1] + A[1,2])/(4*e2)\n",
    "      e3 = (A[3,2] + A[2,3])/(4*e2)\n",
    "    elseif e3flag\n",
    "      e3 = sqrt((A[3,3] + 1)/2)\n",
    "      e1 = (A[3,1] + A[1,3])/(4*e3)\n",
    "      e2 = (A[3,2] + A[2,3])/(4*e3)\n",
    "    else\n",
    "      warn(\"something is wrong with A value  $A \")\n",
    "    end\n",
    "  end\n",
    "\n",
    "  p = [e0 e1 e2 e3]'\n",
    "end\n",
    "\n",
    "#principle rotations\n",
    "Rx(Θ) = [1 0 0 ; 0 cos(Θ) -sin(Θ) ; 0 sin(Θ) cos(Θ)]\n",
    "Ry(Θ) = [ cos(Θ) 0 sin(Θ) ; 0 1 0 ; -sin(Θ) 0 cos(Θ)]\n",
    "Rz(Θ) = [ cos(Θ) -sin(Θ) 0 ; sin(Θ) cos(Θ) 0  ; 0 0 1]\n"
   ]
  },
  {
   "cell_type": "code",
   "execution_count": 76,
   "metadata": {},
   "outputs": [
    {
     "data": {
      "text/plain": [
       "resample"
      ]
     },
     "execution_count": 76,
     "metadata": {},
     "output_type": "execute_result"
    }
   ],
   "source": [
    "using DataFrames\n",
    "\"\"\"\n",
    "convert state vector x for the cart pull problem from a minimal set of generalized coordinates to a\n",
    "maximal set of cartesian coordinates using euler parameters to describe rotation. additionally, \n",
    "rotations will be made so that things look right in unity\n",
    "\n",
    "inputs:\n",
    "    x - state vector resulting from from our control optimization\n",
    "    fln - string of file location\n",
    "outputs:\n",
    "    csv - write a csv to the proper location\n",
    "    \n",
    "assumptions:\n",
    "-This code assumes the original simulation is resampled at 30Hz so the visualization timing is correct\n",
    "- left handed coordinates as defined in unity:\n",
    "    * y is up\n",
    "    * x is left\n",
    "    * z is out of the page\n",
    "\n",
    "movement of the cart occures along the x, and rotation of the pendulum occures about z axis\n",
    "\"\"\"\n",
    "function process2CSV(x,path = \"./pullCartVis3D/Assets/Data/data.csv\")\n",
    "    \n",
    "    #extract state, we only need q1 and q2\n",
    "    x = x[1:2,:]\n",
    "    \n",
    "    #build out fill state matrix  xFull = [r₁;r₂;p₁;p₂]\n",
    "    nb = 2;\n",
    "    xFull = zeros(7*nb, size(x)[2])  \n",
    "    \n",
    "    #place location parameters appropriately\n",
    "    xFull[1,:] = x[1,:]\n",
    "    xFull[4,:] = x[1,:]\n",
    "    xFull[6,:] = .15*ones(size(x)[2],1)                 #unity compensation\n",
    "    \n",
    "    #place orientation parameters appropriately\n",
    "    for i in range(1,size(x)[2])  \n",
    "        xFull[7:10,i]   = A2P(Rx(pi/2)*eye(3))          #unity compensation\n",
    "        xFull[11:14,i] = A2P(Rx(pi/2)*Ry(x[2,i]))       #unity compensation\n",
    "    end\n",
    "        \n",
    "    #print to CSV\n",
    "    xFull = convert(DataFrame, xFull)\n",
    "    writetable(path,xFull)\n",
    "end\n",
    "    \n",
    "\n",
    "#future:\n",
    "\"\"\"\n",
    "linearly interpolate between points on a grid u[k]\n",
    "\"\"\"\n",
    "function interpolate(u::Array,h::Float64,t::Float64)\n",
    "    if ndims(u) == 1 u = reshape(u,1,length(u)) end   #robust to 1d arrays\n",
    "    k = Int(floor(t/h) + 1)\n",
    "    if k == size(u)[2] return u[k] end              #you sampled at the exact last point\n",
    "    deltat = t - (k-1)*h;                            #correcting for 1 index\n",
    "    u_t = u[k] + deltat*(u[k+1]-u[k])/h\n",
    "    return u_t\n",
    "end\n",
    "    \n",
    "\"\"\"\n",
    "resample an x array at the requested sample rate\n",
    "\"\"\"\n",
    "function resample(x,h0,h1)\n",
    "    tf = h0*(size(x)[2] - 1)\n",
    "    colsNew = Int(floor(tf/h1) + 1)\n",
    "    xnew = zeros(size(x)[1],colsNew)\n",
    "    for row in 1:size(x)[1]\n",
    "        for col in 1:colsNew\n",
    "                xnew[row,col] = interpolate(x[row:row,:],h0,(col-1)*h1)\n",
    "        end\n",
    "    end\n",
    "    return xnew\n",
    "end\n",
    "    \n"
   ]
  },
  {
   "cell_type": "code",
   "execution_count": 21,
   "metadata": {},
   "outputs": [
    {
     "data": {
      "text/plain": [
       "1×9 Array{Float64,2}:\n",
       " 0.0  0.5  1.0  1.5  2.0  2.5  3.0  3.5  4.0"
      ]
     },
     "execution_count": 21,
     "metadata": {},
     "output_type": "execute_result"
    }
   ],
   "source": [
    "u = [0 1 2 3 4]\n",
    "interpolate(u,1.0,3.3)\n",
    "\n",
    "x = resample(u,.1,.05)\n"
   ]
  },
  {
   "cell_type": "code",
   "execution_count": 17,
   "metadata": {},
   "outputs": [
    {
     "data": {
      "text/plain": [
       "1"
      ]
     },
     "execution_count": 17,
     "metadata": {},
     "output_type": "execute_result"
    }
   ],
   "source": [
    "u[2]"
   ]
  },
  {
   "cell_type": "code",
   "execution_count": 128,
   "metadata": {},
   "outputs": [],
   "source": [
    "process2CSV(x)"
   ]
  },
  {
   "cell_type": "markdown",
   "metadata": {},
   "source": [
    "Once we perform a trajectory optimization with models of different complexity / that make different assumptions, it would be interesting to see what the forward dynamics of the system would look like for the control that has been specified. "
   ]
  },
  {
   "cell_type": "markdown",
   "metadata": {},
   "source": [
    "notes:\n",
    "\n",
    "**what we have working:**\n",
    "* a forward euler based solver with highly linearized dynamics, that is capable of solving \n",
    "    - optimal control of a non-inverted pendulum\n",
    "    - optimal control of a swing up problem. \n",
    "    \n",
    "* a unity visualizer that will display any movement of the pendulum, when given an input vector x\n",
    "\n",
    "\n",
    "**Things we still need to do:**\n",
    "- a proper introduction to for all these sections...\n",
    "- this includes a proper derivation of the dynamics of the cart pull system\n",
    "- explore what happens if we put simple path constraints on the existing system\n",
    "- implement full direct collocation (with backwards euler / trapozoid method) \n",
    "\n",
    "**our modeling framework: levels of complexity and assumptions - each assumption removes a level of complexity in the dynamics**    \n",
    "1. assumptions - small angles and quazi-static\n",
    "   model - quadratic objective with Linear constraints (this is what we have working)\n",
    "2. assumptions - small angles\n",
    "   model - quadratic objective with quadratic constraints(to be implemented) - should solve with gurobi\n",
    "3. no assumptions - full dynamics \n",
    "   model - quadratic objective with non-linear constraints - NLP - requires IPOPT library to solve\n",
    "\n",
    "\n",
    "**order of integration method**\n",
    "0. zero order\n",
    "1. 1st order (trapezoid)\n",
    "2. 2nd order or higher (math gets pretty intense)\n",
    "\n",
    "\n",
    "**Implement a numerical solver to solve the system as an IVP** - I think that using a numerical solver to take the u(t) calculated by the method and then forward integrating it with the Real dynamics would be an interesting way to assess how bad each of the assumptions actually impacts the performance of this simple system. \n",
    "        \n",
    "        \n",
    "        \n",
    "**Things we could do:**\n",
    "* explore simpsons-hermite transcription (higher order method than trapozoid)\n",
    "* explore the effect of ZOH, since this is what is actually possible as a control signal\n",
    "* explore exotic path constraints (swing up, but avoid these obsticles while you go through\n",
    "* alternative objective, robust control\n",
    "* set waypoints  to hit / follow a trajectory\n",
    "* have a tradeoff between a desired trajectory and minimizing a cost\n",
    "* double pendulum\n",
    "\n",
    "\n",
    "    \n",
    "\n",
    "**proposed organization of report:**\n",
    "\n",
    "* Introduction\n",
    "```julia\n",
    "for model in increasing complexity```\n",
    "    * Mathematical Model\n",
    "    * Solution\n",
    "    * Results / discussion\n",
    "```julia\n",
    "end```\n",
    "* Conclusion\n"
   ]
  },
  {
   "cell_type": "code",
   "execution_count": 22,
   "metadata": {},
   "outputs": [
    {
     "data": {
      "text/plain": [
       "calcxdot"
      ]
     },
     "execution_count": 22,
     "metadata": {},
     "output_type": "execute_result"
    }
   ],
   "source": [
    "\"\"\"\n",
    "treat the cart pull problem as an initial value problem and numerically integrate forward in time \n",
    "with the full dynamics to get the best estimate of the \"real\" trajectory\n",
    "\n",
    "the approach will be a simple forward euler integrator\n",
    "\n",
    "inputs:\n",
    "    x0 =   [q₁ q₂ q₁dot q₂dot]'      #initial system state\n",
    "    u[k] = [u₁ u₂ ... uₙ]            #discrete sampled control value\n",
    "    tf =   [sec]                     #time between collocation points\n",
    "    h =    [sec]                     #time between collocation points\n",
    "    method = str                     #level of assumptions being made \n",
    "\n",
    "outputs:\n",
    "    x[k] = [4 x n]                   \n",
    "    \n",
    "\n",
    "\"\"\"\n",
    "function pullCartForwardDynamics(x0,u,tf,h,method = 1)\n",
    "    #setup\n",
    "    tspan = 0:h:tf\n",
    "    x =    zeros(4,length(tspan)+1)\n",
    "    xdot = zeros(4,length(tspan)+1)\n",
    "    x[:,1] = x0\n",
    "    \n",
    "    #forward euler integration\n",
    "    for (k,t) in enumerate(tspan)\n",
    "        xdot[:,k] = calcxdot(x[:,k],u,h,method) \n",
    "        x[:,k+1]  = x[:,k] + h*xdot[:,k]\n",
    "    end\n",
    "    \n",
    "    return x\n",
    "end\n",
    "\n",
    "\"\"\"\n",
    "calcuate xdot from the specified system dynamics using forward euler\n",
    "\"\"\"\n",
    "function calcxdot(x,u,h,method)\n",
    "    #model constants\n",
    "    l = 1         #length of arm\n",
    "    m1 = 1        #mass of cart\n",
    "    m2 = 1        #mass of pendulum \n",
    "    g = 9.81\n",
    "    \n",
    "    #\n",
    "    u = 0\n",
    "    \n",
    "    xdot = zeros(4,1)\n",
    "    \n",
    "    #calculate xdot    \n",
    "    q1 = x[1,1] ; q2 = x[2,1] ; q1dot = x[3,1] ; q2dot = x[4,1]\n",
    "    xdot[3,1] =  (l*m2*sin(q2)*q2dot^2 + u + m2*g*cos(q2)*sin(q2)) / (m1 + m2*(1-cos(q2)^2))\n",
    "    xdot[4,1] = -(l*m2*cos(q2)*sin(q2)*q2dot^2 + u*cos(q2) + (m1 + m2)*g*sin(q2))/ (l*m1 + l*m2*(1-cos(q2)^2))\n",
    "    \n",
    "    #forward euler step\n",
    "    xdot[1:2,1] = x[3:4,1] + h*xdot[3:4,1]\n",
    "    \n",
    "    return xdot\n",
    "    \n",
    "end"
   ]
  },
  {
   "cell_type": "code",
   "execution_count": 55,
   "metadata": {},
   "outputs": [
    {
     "data": {
      "image/png": "[encoded data removed]",
      "text/plain": [
       "PyPlot.Figure(PyObject <matplotlib.figure.Figure object at 0x00000000218F9320>)"
      ]
     },
     "metadata": {},
     "output_type": "display_data"
    },
    {
     "data": {
      "text/plain": [
       "1-element Array{PyCall.PyObject,1}:\n",
       " PyObject <matplotlib.lines.Line2D object at 0x000000002F5ABD68>"
      ]
     },
     "execution_count": 55,
     "metadata": {},
     "output_type": "execute_result"
    }
   ],
   "source": [
    "x0 = [0 pi/2 0 0]'\n",
    "x = pullCartForwardDynamics(x0,0,3,.001,1)\n",
    "using PyPlot\n",
    "figure(figsize=(12,4))\n",
    "#plot(c[1,:])\n",
    "plot( x[1,:], \"b.-\", markersize=4)\n",
    "plot(x[2,:],\"r\")"
   ]
  },
  {
   "cell_type": "code",
   "execution_count": 49,
   "metadata": {},
   "outputs": [
    {
     "data": {
      "image/png": "[encoded data removed]",
      "text/plain": [
       "PyPlot.Figure(PyObject <matplotlib.figure.Figure object at 0x000000002184CBA8>)"
      ]
     },
     "metadata": {},
     "output_type": "display_data"
    },
    {
     "data": {
      "text/plain": [
       "1-element Array{PyCall.PyObject,1}:\n",
       " PyObject <matplotlib.lines.Line2D object at 0x00000000218939B0>"
      ]
     },
     "execution_count": 49,
     "metadata": {},
     "output_type": "execute_result"
    }
   ],
   "source": [
    " x = resample(x,.0001,.02)\n",
    "using PyPlot\n",
    "figure(figsize=(12,4))\n",
    "#plot(c[1,:])\n",
    "plot( x[1,:], \"b.-\", markersize=4)\n",
    "plot(x[2,:],\"r\")"
   ]
  },
  {
   "cell_type": "code",
   "execution_count": 42,
   "metadata": {},
   "outputs": [],
   "source": [
    "process2CSV(x)"
   ]
  },
  {
   "cell_type": "markdown",
   "metadata": {},
   "source": [
    "### solve the non-linear dynamics with ipopt\n",
    "- the full dynamics are highly nonlinear and must be solved using a non linear program solver - ipopt"
   ]
  },
  {
   "cell_type": "code",
   "execution_count": 69,
   "metadata": {},
   "outputs": [
    {
     "data": {
      "text/plain": [
       "SolvFullCartPull"
      ]
     },
     "execution_count": 69,
     "metadata": {},
     "output_type": "execute_result"
    }
   ],
   "source": [
    "using JuMP, PyPlot, Ipopt\n",
    "\n",
    "#define initial and final states, x\n",
    "x0 = [0 0 0 0]' \n",
    "xf = [3 pi 0 0]'   #wind up at the same angle, but \n",
    "\n",
    "\"\"\"\n",
    "solve the cart pull problem using direct collocation and full dynamics\n",
    "\n",
    "inputs:\n",
    "    x0 = [q₁ q₂ q₁dot q₂dot]'      #initial system state\n",
    "    xf = [q₁ q₂ q₁dot q₂dot]'      #final system state\n",
    "    tf = [sec]                     #time to get to final state\n",
    "    h =  [sec]                     #time between collocation points\n",
    "\n",
    "outputs:\n",
    "    path = [4xk]                   #state matrix that specifies path \n",
    "\"\"\"\n",
    "function SolvFullCartPull(x0, xf, tf, h, itype = \"backwardEuler\")\n",
    "    \n",
    "    #define model\n",
    "    m = Model(solver = IpoptSolver(print_level=0))\n",
    "    T = 0:h:tf                   #time vector\n",
    "    K = length(T)                 #number of collocation points\n",
    "    @variable(m,    x[1:4,1:K])   #system state at discrete times\n",
    "    @variable(m, xdot[1:4,1:K])   #derivative of system state at discrete times\n",
    "    @variable(m,    u[1:1,1:K])   #control input to system along q1\n",
    "\n",
    "    #boundry constraints - initial and final state\n",
    "    @constraint(m, x[:,1] .== x0)\n",
    "    @constraint(m, x[:,K] .== xf)\n",
    "\n",
    "    \n",
    "    #model constants\n",
    "    l = 1         #length of arm\n",
    "    m1 = 3        #mass of cart\n",
    "    m2 = 1        #mass of pendulum point mass\n",
    "    g = 9.81\n",
    "    \n",
    "    \n",
    "    #setup the full dynamics constraints\n",
    "    for k in 1:K\n",
    "        @constraint(m,xdot[1,k] == x[3,k])                      #this step could be wrong!!! I may need to integrate here\n",
    "        @constraint(m,xdot[2,k] == x[4,k])                      #look here for an issue\n",
    "         #calculate xdot    \n",
    "        q1 = x[1,k] ; q2 = x[2,k] ; q1dot = x[3,k] ; q2dot = x[4,k]\n",
    "        @NLconstraint(m,xdot[3,k] ==  (l*m2*sin(q2)*q2dot^2 + u[1,k] + m2*g*cos(q2)*sin(q2)) /\n",
    "                                    (m1 + m2*(1-cos(q2)^2)))\n",
    "        @NLconstraint(m,xdot[4,k] == -(l*m2*cos(q2)*sin(q2)*q2dot^2 + u[1,k]*cos(q2) + (m1 + m2)*g*sin(q2))/\n",
    "                                    (l*m1 + l*m2*(1-cos(q2)^2)))\n",
    "\n",
    "    end\n",
    "    \n",
    "\n",
    "    if itype == \"forwardEuler\" \n",
    "        #add forward euler dynamics constraint\n",
    "        for k in 1:K-1\n",
    "            @constraint(m, x[:,k+1] .== x[:,k] + h*xdot[:,k])\n",
    "        end\n",
    "        \n",
    "    elseif itype == \"backwardEuler\"\n",
    "        for k in 1:K-1\n",
    "             #add backwards euler dynamics constraint\n",
    "            @constraint(m, x[:,k+1] .== x[:,k] + .5*h*(xdot[:,k] + xdot[:,k+1]))\n",
    "        end     \n",
    "    end\n",
    "\n",
    "    # minimize 2-norm (THIS IS LEAST-SQUARES)\n",
    "    #@objective(m, Min, .5*h*sum(u[1:end-1].^2 + u[2:end].^2))\n",
    "    @objective(m, Min, sum(u.^2) ) #+ sum(x[2,:]).^2))\n",
    "    solve(m)\n",
    "    #print(m)\n",
    "    \n",
    "    control = getvalue(u)\n",
    "    xopt = getvalue(x)\n",
    "    xdotopt = getvalue(xdot)\n",
    "    \n",
    "    return (m,control, xopt,xdotopt)\n",
    "end\n"
   ]
  },
  {
   "cell_type": "code",
   "execution_count": 77,
   "metadata": {},
   "outputs": [
    {
     "data": {
      "image/png": "[encoded data removed]",
      "text/plain": [
       "PyPlot.Figure(PyObject <matplotlib.figure.Figure object at 0x0000000006A67B00>)"
      ]
     },
     "metadata": {},
     "output_type": "display_data"
    }
   ],
   "source": [
    " m,u,x,xdot = SolvFullCartPull(x0, xf,3, .1)\n",
    "\n",
    "using PyPlot\n",
    "figure(figsize=(12,4))\n",
    "#plot(c[1,:])\n",
    "plot( x[1,:], \"b.-\", markersize=4)\n",
    "plot(x[2,:],\"r\")\n",
    "#legend(\"x\",\"xdot\")\n",
    "#plot(xdot[1,:])\n",
    "#plot(xdot[3,:])\n",
    "\n",
    "\n",
    "#output to visualizer\n",
    "x = resample(x,.1,.02)\n",
    "process2CSV(x)"
   ]
  },
  {
   "cell_type": "markdown",
   "metadata": {},
   "source": [
    "#### full dynamics, but incorporating  two levels of backwards euler\n",
    "* the first methods seemed to work , but the constraints on velocity were simply that they should be equal in x and xdot. I think this may be causing an issue, and I didn't realize it until I wrote the forward euler integrator. \n",
    "* so this time, I'll implement both levels of the backwards euler integration constraint\n"
   ]
  },
  {
   "cell_type": "code",
   "execution_count": null,
   "metadata": {},
   "outputs": [],
   "source": [
    "\"\"\"\n",
    "solve the cart pull problem using direct collocation and full dynamics\n",
    "\n",
    "inputs:\n",
    "    x0 = [q₁ q₂ q₁dot q₂dot]'      #initial system state\n",
    "    xf = [q₁ q₂ q₁dot q₂dot]'      #final system state\n",
    "    tf = [sec]                     #time to get to final state\n",
    "    h =  [sec]                     #time between collocation points\n",
    "\n",
    "outputs:\n",
    "    path = [4xk]                   #state matrix that specifies path \n",
    "\"\"\"\n",
    "function SolvFullCartPull(x0, xf, tf, h, itype = \"backwardEuler\")\n",
    "    \n",
    "    #define model\n",
    "    m = Model(solver = IpoptSolver(print_level=0))\n",
    "    T = 0:h:tf                   #time vector\n",
    "    K = length(T)                 #number of collocation points\n",
    "    @variable(m,    x[1:4,1:K])   #system state at discrete times\n",
    "    @variable(m, xdot[1:4,1:K])   #derivative of system state at discrete times\n",
    "    @variable(m,    u[1:1,1:K])   #control input to system along q1\n",
    "\n",
    "    #boundry constraints - initial and final state\n",
    "    @constraint(m, x[:,1] .== x0)\n",
    "    @constraint(m, x[:,K] .== xf)\n",
    "\n",
    "    \n",
    "    #model constants\n",
    "    l = 1         #length of arm\n",
    "    m1 = 3        #mass of cart\n",
    "    m2 = 1        #mass of pendulum point mass\n",
    "    g = 9.81\n",
    "    \n",
    "    \n",
    "    #setup the full dynamics constraints\n",
    "    for k in 1:K\n",
    "        @constraint(m,xdot[1,k] == x[3,k])                      #this step could be wrong!!! I may need to integrate here\n",
    "        @constraint(m,xdot[2,k] == x[4,k])                      #look here for an issue\n",
    "         #calculate xdot    \n",
    "        q1 = x[1,k] ; q2 = x[2,k] ; q1dot = x[3,k] ; q2dot = x[4,k]\n",
    "        @NLconstraint(m,xdot[3,k] ==  (l*m2*sin(q2)*q2dot^2 + u[1,k] + m2*g*cos(q2)*sin(q2)) /\n",
    "                                    (m1 + m2*(1-cos(q2)^2)))\n",
    "        @NLconstraint(m,xdot[4,k] == -(l*m2*cos(q2)*sin(q2)*q2dot^2 + u[1,k]*cos(q2) + (m1 + m2)*g*sin(q2))/\n",
    "                                    (l*m1 + l*m2*(1-cos(q2)^2)))\n",
    "\n",
    "    end\n",
    "    \n",
    "     #forward euler step\n",
    "    \n",
    "    xdot[1:2,1] = x[3:4,1] + h*xdot[3:4,1]\n",
    "    \n",
    "    elseif itype == \"backwardEuler\"\n",
    "        for k in 1:K-1\n",
    "             #add backwards euler dynamics constraint\n",
    "            @constraint(m, x[:,k+1] .== x[:,k] + .5*h*(xdot[:,k] + xdot[:,k+1]))\n",
    "        end     \n",
    "    end\n",
    "\n",
    "    # minimize 2-norm (THIS IS LEAST-SQUARES)\n",
    "    #@objective(m, Min, .5*h*sum(u[1:end-1].^2 + u[2:end].^2))\n",
    "    @objective(m, Min, sum(u.^2) ) #+ sum(x[2,:]).^2))\n",
    "    solve(m)\n",
    "    #print(m)\n",
    "    \n",
    "    control = getvalue(u)\n",
    "    xopt = getvalue(x)\n",
    "    xdotopt = getvalue(xdot)\n",
    "    \n",
    "    return (m,control, xopt,xdotopt)\n",
    "end\n"
   ]
  }
 ],
 "metadata": {
  "kernelspec": {
   "display_name": "Julia 0.6.2",
   "language": "julia",
   "name": "julia-0.6"
  },
  "language_info": {
   "file_extension": ".jl",
   "mimetype": "application/julia",
   "name": "julia",
   "version": "0.6.2"
  }
 },
 "nbformat": 4,
 "nbformat_minor": 2
}
